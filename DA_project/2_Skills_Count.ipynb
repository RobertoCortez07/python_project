{
 "cells": [
  {
   "cell_type": "code",
   "execution_count": null,
   "metadata": {},
   "outputs": [],
   "source": [
    "import pandas as pd\n",
    "import matplotlib.pyplot as plt \n",
    "import ast \n",
    "import seaborn as sns\n",
    "\n",
    "#Loading Data\n",
    "df = pd.read_csv('/Users/robertocortez/Desktop/data_jobs.csv')\n",
    "\n",
    "# Data Cleanup \n",
    "df['job_posted_date'] = pd.to_datetime(df['job_posted_date'])\n",
    "\n",
    "# Converting job_skills column from str to list\n",
    "df['job_skills'] = df['job_skills'].apply(\n",
    "    lambda skill_list: ast.literal_eval(skill_list) if isinstance(skill_list, str) and pd.notna(skill_list) else skill_list\n",
    ") "
   ]
  }
 ],
 "metadata": {
  "language_info": {
   "name": "python"
  }
 },
 "nbformat": 4,
 "nbformat_minor": 2
}
